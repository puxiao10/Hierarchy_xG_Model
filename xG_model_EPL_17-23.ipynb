{
 "cells": [
  {
   "cell_type": "markdown",
   "metadata": {},
   "source": [
    "# xG model of EPL from season 2017 to 2023\n",
    "This notebook aims to replicated the paper's [Explainable expected goal models for performance analysis in football analysics](https://ieeexplore.ieee.org/document/10032440) techniques. <br>\n",
    "Here is the [github link](https://github.com/mcavs/Explainable_xG_model_paper) of the paper."
   ]
  },
  {
   "cell_type": "markdown",
   "metadata": {},
   "source": [
    "## Set up"
   ]
  },
  {
   "cell_type": "code",
   "execution_count": 1,
   "metadata": {},
   "outputs": [],
   "source": [
    "# import packages\n",
    "import os\n",
    "import pandas as pd\n",
    "import numpy as np\n",
    "import matplotlib.pyplot as plt\n",
    "import seaborn as sns\n",
    "\n",
    "import math\n",
    "from sklearn.model_selection import train_test_split\n",
    "\n",
    "# import all functions from utils.py\n",
    "from utils import *"
   ]
  },
  {
   "cell_type": "code",
   "execution_count": 2,
   "metadata": {},
   "outputs": [
    {
     "name": "stdout",
     "output_type": "stream",
     "text": [
      "shape of data: (57029, 26)\n"
     ]
    }
   ],
   "source": [
    "# import data\n",
    "current_dir = os.getcwd()\n",
    "\n",
    "df = import_epl_data(2017, 2023, current_dir + '/Data/')\n",
    "print(f\"shape of data: {df.shape}\")\n"
   ]
  },
  {
   "cell_type": "markdown",
   "metadata": {},
   "source": [
    "## Data preprocessing"
   ]
  },
  {
   "cell_type": "code",
   "execution_count": 3,
   "metadata": {},
   "outputs": [
    {
     "name": "stdout",
     "output_type": "stream",
     "text": [
      "shape of data after dropping columns: (57029, 7)\n"
     ]
    }
   ],
   "source": [
    "# drop inapporiate columns\n",
    "columns_to_drop = ['Unnamed: 0', 'league', 'minute', 'h_team', 'a_team', 'h_goals', 'a_goals',\n",
    "                   'player', 'h_a', 'player_id', \n",
    "                   'match_id', 'home_team', 'away_team', 'home_goals', 'away_goals',\n",
    "                   'date', 'player_assisted', 'xG']\n",
    "df.drop(columns=columns_to_drop, inplace = True)\n",
    "df.set_index('id', inplace=True) # set id as index\n",
    "print(f\"shape of data after dropping columns: {df.shape}\")"
   ]
  },
  {
   "cell_type": "code",
   "execution_count": 4,
   "metadata": {},
   "outputs": [],
   "source": [
    "# create two new columns: distance and angle\n",
    "L = 105.0 # length of pitch in meters\n",
    "W = 68.0 # width of pitch in meters\n",
    "a = 7.32 # radius of goal in meters\n",
    "df['distance'] = np.sqrt( (L * (1 - df[\"X\"]))**2 + (W * (0.5 - df[\"Y\"]))**2 )\n",
    "df['angle'] = abs(np.arctan((a * (L * (1 - df[\"X\"]))) / ((L * (1 - df[\"X\"]))**2 + (W * (0.5 - df[\"Y\"]))**2 - (a/2)**2) * 180 / math.pi))"
   ]
  },
  {
   "cell_type": "code",
   "execution_count": 5,
   "metadata": {},
   "outputs": [],
   "source": [
    "df[\"goal\"] = np.where(df[\"result\"] == \"Goal\", 1, 0) # create a new column goal as target variable\n",
    "df.drop(columns=['result'], inplace=True) # drop result column"
   ]
  },
  {
   "cell_type": "code",
   "execution_count": 6,
   "metadata": {},
   "outputs": [
    {
     "name": "stdout",
     "output_type": "stream",
     "text": [
      "shape of preprocessed data: (57029, 50)\n"
     ]
    }
   ],
   "source": [
    "# one hot encoding\n",
    "df_preprocessed = pd.get_dummies(df, columns=['situation', 'shotType', 'lastAction'])\n",
    "print(f\"shape of preprocessed data: {df_preprocessed.shape}\")"
   ]
  },
  {
   "cell_type": "code",
   "execution_count": 9,
   "metadata": {},
   "outputs": [
    {
     "name": "stdout",
     "output_type": "stream",
     "text": [
      "shape of X_train: (47385, 48)\n",
      "shape of X_test: (9644, 48)\n",
      "shape of y_train: (47385,)\n",
      "shape of y_test: (9644,)\n"
     ]
    }
   ],
   "source": [
    "# split data into train (2017 - 2022) and test (2022-2023)\n",
    "df_train = df_preprocessed[df_preprocessed['season'] != '22-23'] # train data is from 17-18 to 21-22\n",
    "df_test = df_preprocessed[df_preprocessed['season'] == '22-23'] # test data is from 22-23\n",
    "X_train = df_train.drop(columns=['goal', 'season'])\n",
    "y_train = df_train['goal']\n",
    "X_test = df_test.drop(columns=['goal', 'season'])\n",
    "y_test = df_test['goal']\n",
    "\n",
    "print(f\"shape of X_train: {X_train.shape}\")\n",
    "print(f\"shape of X_test: {X_test.shape}\")\n",
    "print(f\"shape of y_train: {y_train.shape}\")\n",
    "print(f\"shape of y_test: {y_test.shape}\")"
   ]
  },
  {
   "cell_type": "markdown",
   "metadata": {},
   "source": [
    "## Modeling"
   ]
  },
  {
   "cell_type": "code",
   "execution_count": 14,
   "metadata": {},
   "outputs": [],
   "source": [
    "# train a xgboost model\n",
    "import xgboost as xgb\n",
    "\n",
    "classifier_xgb = xgb.XGBClassifier(\n",
    "    n_estimators=100,\n",
    "    max_depth=3,\n",
    "    learning_rate=0.1,\n",
    ")\n",
    "classifier_xgb.fit(X_train, y_train)\n",
    "class_xgb = classifier_xgb.predict(X_test)"
   ]
  },
  {
   "cell_type": "code",
   "execution_count": 15,
   "metadata": {},
   "outputs": [
    {
     "name": "stdout",
     "output_type": "stream",
     "text": [
      "0.9014931563666528\n"
     ]
    }
   ],
   "source": [
    "# Accuracy of test data\n",
    "print(classifier_xgb.score(X_test, y_test))"
   ]
  },
  {
   "cell_type": "code",
   "execution_count": 18,
   "metadata": {},
   "outputs": [
    {
     "data": {
      "image/png": "[encoded data removed]",
      "text/plain": [
       "<Figure size 640x480 with 2 Axes>"
      ]
     },
     "metadata": {},
     "output_type": "display_data"
    }
   ],
   "source": [
    "from sklearn import metrics\n",
    "confusion_matrix = metrics.confusion_matrix(y_test, class_xgb)\n",
    "cm_display = metrics.ConfusionMatrixDisplay(confusion_matrix = confusion_matrix, display_labels = [False, True])\n",
    "cm_display.plot()\n",
    "plt.show()"
   ]
  },
  {
   "cell_type": "code",
   "execution_count": null,
   "metadata": {},
   "outputs": [],
   "source": []
  },
  {
   "cell_type": "markdown",
   "metadata": {},
   "source": [
    "## Evaluation"
   ]
  },
  {
   "cell_type": "code",
   "execution_count": null,
   "metadata": {},
   "outputs": [],
   "source": []
  }
 ],
 "metadata": {
  "kernelspec": {
   "display_name": "base",
   "language": "python",
   "name": "python3"
  },
  "language_info": {
   "codemirror_mode": {
    "name": "ipython",
    "version": 3
   },
   "file_extension": ".py",
   "mimetype": "text/x-python",
   "name": "python",
   "nbconvert_exporter": "python",
   "pygments_lexer": "ipython3",
   "version": "3.9.12"
  }
 },
 "nbformat": 4,
 "nbformat_minor": 2
}
